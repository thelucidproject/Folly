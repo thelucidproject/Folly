{
 "cells": [
  {
   "cell_type": "code",
   "execution_count": 4,
   "id": "570b0e13-d6c9-468b-9f81-72562b29a020",
   "metadata": {},
   "outputs": [],
   "source": [
    "from importlib import reload\n",
    "import numpy as np\n",
    "import matplotlib.pyplot as plt"
   ]
  },
  {
   "cell_type": "code",
   "execution_count": 1,
   "id": "cb6ea309-a2a1-42a8-b1ee-7e973392eb11",
   "metadata": {},
   "outputs": [],
   "source": [
    "speech_path = 'assets/LANDR-Meditations- Mindful Beathing 15 Mins-Balanced-Medium.mp3'\n",
    "music_path = 'assets/ambienceTrack_001(1).mp3'"
   ]
  },
  {
   "cell_type": "code",
   "execution_count": 28,
   "id": "f275900a-ebb1-4092-9566-4d53d11583e0",
   "metadata": {
    "scrolled": true
   },
   "outputs": [
    {
     "name": "stderr",
     "output_type": "stream",
     "text": [
      "/Users/soroush/Desktop/LUCID/Folly/src/speech/asr.py:7: TqdmExperimentalWarning: Using `tqdm.autonotebook.tqdm` in notebook mode. Use `tqdm.tqdm` instead to force console mode (e.g. in jupyter console)\n",
      "  from tqdm.autonotebook import trange\n",
      "[NeMo W 2024-07-22 16:36:13 nemo_logging:349] /Users/soroush/lucid_env/lib/python3.10/site-packages/transformers/configuration_utils.py:364: UserWarning: Passing `gradient_checkpointing` to a config initialization is deprecated and will be removed in v5 Transformers. Using `model.gradient_checkpointing_enable()` instead, or if you are using the `Trainer` API, pass `gradient_checkpointing=True` in your `TrainingArguments`.\n",
      "      warnings.warn(\n",
      "    \n",
      "Some weights of Wav2Vec2Model were not initialized from the model checkpoint at facebook/wav2vec2-base and are newly initialized: ['wav2vec2.encoder.pos_conv_embed.conv.parametrizations.weight.original0', 'wav2vec2.encoder.pos_conv_embed.conv.parametrizations.weight.original1']\n",
      "You should probably TRAIN this model on a down-stream task to be able to use it for predictions and inference.\n",
      "speechbrain.lobes.models.huggingface_transformers.huggingface - Wav2Vec2Model is frozen.\n",
      "Some weights of EmotionDimensionModel were not initialized from the model checkpoint at audeering/wav2vec2-large-robust-12-ft-emotion-msp-dim and are newly initialized: ['wav2vec2.encoder.pos_conv_embed.conv.parametrizations.weight.original0', 'wav2vec2.encoder.pos_conv_embed.conv.parametrizations.weight.original1']\n",
      "You should probably TRAIN this model on a down-stream task to be able to use it for predictions and inference.\n"
     ]
    },
    {
     "name": "stdout",
     "output_type": "stream",
     "text": [
      "[NeMo I 2024-07-22 16:36:15 cloud:58] Found existing object /Users/soroush/.cache/torch/NeMo/NeMo_2.0.0rc1/stt_en_fastconformer_hybrid_large_streaming_1040ms/666909d8ac36ad698d0451f58f12594c/stt_en_fastconformer_hybrid_large_streaming_1040ms.nemo.\n",
      "[NeMo I 2024-07-22 16:36:15 cloud:64] Re-using file from: /Users/soroush/.cache/torch/NeMo/NeMo_2.0.0rc1/stt_en_fastconformer_hybrid_large_streaming_1040ms/666909d8ac36ad698d0451f58f12594c/stt_en_fastconformer_hybrid_large_streaming_1040ms.nemo\n",
      "[NeMo I 2024-07-22 16:36:15 common:826] Instantiating model from pre-trained checkpoint\n",
      "[NeMo I 2024-07-22 16:36:16 mixins:172] Tokenizer SentencePieceTokenizer initialized with 1024 tokens\n"
     ]
    },
    {
     "name": "stderr",
     "output_type": "stream",
     "text": [
      "[NeMo W 2024-07-22 16:36:16 modelPT:176] If you intend to do training or fine-tuning, please call the ModelPT.setup_training_data() method and provide a valid configuration file to setup the train data loader.\n",
      "    Train config : \n",
      "    manifest_filepath:\n",
      "    - - /raid/local//bucket1/tarred_audio_manifest.json\n",
      "    - - /raid/local//bucket2/tarred_audio_manifest.json\n",
      "    - - /raid/local//bucket3/tarred_audio_manifest.json\n",
      "    - - /raid/local//bucket4/tarred_audio_manifest.json\n",
      "    - - /raid/local//bucket5/tarred_audio_manifest.json\n",
      "    - - /raid/local//bucket6/tarred_audio_manifest.json\n",
      "    - - /raid/local//bucket7/tarred_audio_manifest.json\n",
      "    - - /raid/local//bucket8/tarred_audio_manifest.json\n",
      "    sample_rate: 16000\n",
      "    batch_size: 1\n",
      "    shuffle: true\n",
      "    num_workers: 4\n",
      "    pin_memory: true\n",
      "    use_start_end_token: false\n",
      "    trim_silence: false\n",
      "    max_duration: 25\n",
      "    min_duration: 0.1\n",
      "    is_tarred: true\n",
      "    tarred_audio_filepaths:\n",
      "    - - /data2/nemo_asr/nemo_asr_set_3.0//bucket1/audio__OP_0..8191_CL_.tar\n",
      "    - - /data2/nemo_asr/nemo_asr_set_3.0//bucket2/audio__OP_0..8191_CL_.tar\n",
      "    - - /data2/nemo_asr/nemo_asr_set_3.0//bucket3/audio__OP_0..8191_CL_.tar\n",
      "    - - /data2/nemo_asr/nemo_asr_set_3.0//bucket4/audio__OP_0..8191_CL_.tar\n",
      "    - - /data2/nemo_asr/nemo_asr_set_3.0//bucket5/audio__OP_0..8191_CL_.tar\n",
      "    - - /data2/nemo_asr/nemo_asr_set_3.0//bucket6/audio__OP_0..8191_CL_.tar\n",
      "    - - /data2/nemo_asr/nemo_asr_set_3.0//bucket7/audio__OP_0..8191_CL_.tar\n",
      "    - - /data2/nemo_asr/nemo_asr_set_3.0//bucket8/audio__OP_0..8191_CL_.tar\n",
      "    shuffle_n: 2048\n",
      "    bucketing_strategy: fully_randomized\n",
      "    bucketing_batch_size:\n",
      "    - 72\n",
      "    - 64\n",
      "    - 56\n",
      "    - 48\n",
      "    - 40\n",
      "    - 32\n",
      "    - 24\n",
      "    - 16\n",
      "    \n",
      "[NeMo W 2024-07-22 16:36:16 modelPT:183] If you intend to do validation, please call the ModelPT.setup_validation_data() or ModelPT.setup_multiple_validation_data() method and provide a valid configuration file to setup the validation data loader(s). \n",
      "    Validation config : \n",
      "    manifest_filepath:\n",
      "    - /manifests/librispeech/librivox-dev-other.json\n",
      "    - /manifests/librispeech/librivox-dev-clean.json\n",
      "    - /manifests/librispeech/librivox-test-other.json\n",
      "    - /manifests/librispeech/librivox-test-clean.json\n",
      "    sample_rate: 16000\n",
      "    batch_size: 16\n",
      "    shuffle: false\n",
      "    num_workers: 8\n",
      "    pin_memory: true\n",
      "    use_start_end_token: false\n",
      "    \n",
      "[NeMo W 2024-07-22 16:36:16 modelPT:189] Please call the ModelPT.setup_test_data() or ModelPT.setup_multiple_test_data() method and provide a valid configuration file to setup the test data loader(s).\n",
      "    Test config : \n",
      "    manifest_filepath:\n",
      "    - /manifests/librispeech/librivox-dev-other.json\n",
      "    - /manifests/librispeech/librivox-dev-clean.json\n",
      "    - /manifests/librispeech/librivox-test-other.json\n",
      "    - /manifests/librispeech/librivox-test-clean.json\n",
      "    sample_rate: 16000\n",
      "    batch_size: 16\n",
      "    shuffle: false\n",
      "    num_workers: 8\n",
      "    pin_memory: true\n",
      "    use_start_end_token: false\n",
      "    \n"
     ]
    },
    {
     "name": "stdout",
     "output_type": "stream",
     "text": [
      "[NeMo I 2024-07-22 16:36:16 features:305] PADDING: 0\n"
     ]
    },
    {
     "name": "stderr",
     "output_type": "stream",
     "text": [
      "[NeMo W 2024-07-22 16:36:17 nemo_logging:349] /Users/soroush/lucid_env/lib/python3.10/site-packages/torch/nn/modules/rnn.py:83: UserWarning: dropout option adds dropout after all but last recurrent layer, so non-zero dropout expects num_layers greater than 1, but got dropout=0.2 and num_layers=1\n",
      "      warnings.warn(\"dropout option adds dropout after all but last \"\n",
      "    \n"
     ]
    },
    {
     "name": "stdout",
     "output_type": "stream",
     "text": [
      "[NeMo I 2024-07-22 16:36:17 rnnt_models:224] Using RNNT Loss : warprnnt_numba\n",
      "    Loss warprnnt_numba_kwargs: {'fastemit_lambda': 0.001, 'clamp': -1.0}\n",
      "[NeMo I 2024-07-22 16:36:17 rnnt_models:224] Using RNNT Loss : warprnnt_numba\n",
      "    Loss warprnnt_numba_kwargs: {'fastemit_lambda': 0.001, 'clamp': -1.0}\n"
     ]
    },
    {
     "name": "stderr",
     "output_type": "stream",
     "text": [
      "[NeMo W 2024-07-22 16:36:17 rnnt_loop_labels_computer:270] No conditional node support for Cuda.\n",
      "    Cuda graphs with while loops are disabled, decoding speed will be slower\n",
      "    Reason: No `cuda-python` module. Please do `pip install cuda-python>=12.3`\n"
     ]
    },
    {
     "name": "stdout",
     "output_type": "stream",
     "text": [
      "[NeMo I 2024-07-22 16:36:17 rnnt_models:224] Using RNNT Loss : warprnnt_numba\n",
      "    Loss warprnnt_numba_kwargs: {'fastemit_lambda': 0.001, 'clamp': -1.0}\n"
     ]
    },
    {
     "name": "stderr",
     "output_type": "stream",
     "text": [
      "[NeMo W 2024-07-22 16:36:17 rnnt_loop_labels_computer:270] No conditional node support for Cuda.\n",
      "    Cuda graphs with while loops are disabled, decoding speed will be slower\n",
      "    Reason: No `cuda-python` module. Please do `pip install cuda-python>=12.3`\n"
     ]
    },
    {
     "name": "stdout",
     "output_type": "stream",
     "text": [
      "[NeMo I 2024-07-22 16:36:17 save_restore_connector:263] Model EncDecHybridRNNTCTCBPEModel was successfully restored from /Users/soroush/.cache/torch/NeMo/NeMo_2.0.0rc1/stt_en_fastconformer_hybrid_large_streaming_1040ms/666909d8ac36ad698d0451f58f12594c/stt_en_fastconformer_hybrid_large_streaming_1040ms.nemo.\n",
      "[NeMo I 2024-07-22 16:36:17 hybrid_rnnt_ctc_bpe_models:422] No `decoding_cfg` passed when changing decoding strategy, using internal config\n",
      "[NeMo I 2024-07-22 16:36:17 rnnt_models:224] Using RNNT Loss : warprnnt_numba\n",
      "    Loss warprnnt_numba_kwargs: {'fastemit_lambda': 0.001, 'clamp': -1.0}\n"
     ]
    },
    {
     "name": "stderr",
     "output_type": "stream",
     "text": [
      "[NeMo W 2024-07-22 16:36:17 rnnt_loop_labels_computer:270] No conditional node support for Cuda.\n",
      "    Cuda graphs with while loops are disabled, decoding speed will be slower\n",
      "    Reason: No `cuda-python` module. Please do `pip install cuda-python>=12.3`\n"
     ]
    },
    {
     "name": "stdout",
     "output_type": "stream",
     "text": [
      "[NeMo I 2024-07-22 16:36:17 hybrid_rnnt_ctc_bpe_models:457] Changed decoding strategy of the RNNT decoder to \n",
      "    model_type: rnnt\n",
      "    strategy: greedy_batch\n",
      "    compute_hypothesis_token_set: false\n",
      "    preserve_alignments: null\n",
      "    confidence_cfg:\n",
      "      preserve_frame_confidence: false\n",
      "      preserve_token_confidence: false\n",
      "      preserve_word_confidence: false\n",
      "      exclude_blank: true\n",
      "      aggregation: min\n",
      "      tdt_include_duration: false\n",
      "      method_cfg:\n",
      "        name: entropy\n",
      "        entropy_type: tsallis\n",
      "        alpha: 0.33\n",
      "        entropy_norm: exp\n",
      "        temperature: DEPRECATED\n",
      "    fused_batch_size: null\n",
      "    compute_timestamps: null\n",
      "    compute_langs: false\n",
      "    word_seperator: ' '\n",
      "    rnnt_timestamp_type: all\n",
      "    greedy:\n",
      "      max_symbols_per_step: 10\n",
      "      preserve_alignments: false\n",
      "      preserve_frame_confidence: false\n",
      "      tdt_include_duration_confidence: false\n",
      "      confidence_method_cfg:\n",
      "        name: entropy\n",
      "        entropy_type: tsallis\n",
      "        alpha: 0.33\n",
      "        entropy_norm: exp\n",
      "        temperature: DEPRECATED\n",
      "      loop_labels: true\n",
      "      use_cuda_graph_decoder: true\n",
      "      max_symbols: 10\n",
      "    beam:\n",
      "      beam_size: 5\n",
      "      search_type: default\n",
      "      score_norm: true\n",
      "      return_best_hypothesis: false\n",
      "      tsd_max_sym_exp_per_step: 50\n",
      "      alsd_max_target_len: 2.0\n",
      "      nsc_max_timesteps_expansion: 1\n",
      "      nsc_prefix_alpha: 1\n",
      "      maes_num_steps: 2\n",
      "      maes_prefix_alpha: 1\n",
      "      maes_expansion_gamma: 2.3\n",
      "      maes_expansion_beta: 2\n",
      "      language_model: null\n",
      "      softmax_temperature: 1.0\n",
      "      preserve_alignments: false\n",
      "      ngram_lm_model: null\n",
      "      ngram_lm_alpha: 0.0\n",
      "      hat_subtract_ilm: false\n",
      "      hat_ilm_weight: 0.0\n",
      "      tsd_max_sym_exp: 50\n",
      "    temperature: 1.0\n",
      "    durations: []\n",
      "    big_blank_durations: []\n",
      "    \n",
      "[NeMo I 2024-07-22 16:36:17 rnnt_models:224] Using RNNT Loss : warprnnt_numba\n",
      "    Loss warprnnt_numba_kwargs: {'fastemit_lambda': 0.001, 'clamp': -1.0}\n",
      "[NeMo I 2024-07-22 16:36:17 rnnt_decoding:730] Joint fused batch size <= 0; Will temporarily disable fused batch step in the Joint.\n",
      "[NeMo I 2024-07-22 16:36:17 hybrid_rnnt_ctc_bpe_models:457] Changed decoding strategy of the RNNT decoder to \n",
      "    model_type: rnnt\n",
      "    strategy: greedy\n",
      "    compute_hypothesis_token_set: false\n",
      "    preserve_alignments: false\n",
      "    confidence_cfg:\n",
      "      preserve_frame_confidence: false\n",
      "      preserve_token_confidence: false\n",
      "      preserve_word_confidence: false\n",
      "      exclude_blank: true\n",
      "      aggregation: min\n",
      "      tdt_include_duration: false\n",
      "      method_cfg:\n",
      "        name: entropy\n",
      "        entropy_type: tsallis\n",
      "        alpha: 0.33\n",
      "        entropy_norm: exp\n",
      "        temperature: DEPRECATED\n",
      "    fused_batch_size: -1\n",
      "    compute_timestamps: null\n",
      "    compute_langs: false\n",
      "    word_seperator: ' '\n",
      "    rnnt_timestamp_type: all\n",
      "    greedy:\n",
      "      max_symbols_per_step: 10\n",
      "      preserve_alignments: false\n",
      "      preserve_frame_confidence: false\n",
      "      tdt_include_duration_confidence: false\n",
      "      confidence_method_cfg:\n",
      "        name: entropy\n",
      "        entropy_type: tsallis\n",
      "        alpha: 0.33\n",
      "        entropy_norm: exp\n",
      "        temperature: DEPRECATED\n",
      "      loop_labels: true\n",
      "      use_cuda_graph_decoder: true\n",
      "      max_symbols: 10\n",
      "    beam:\n",
      "      beam_size: 5\n",
      "      search_type: default\n",
      "      score_norm: true\n",
      "      return_best_hypothesis: false\n",
      "      tsd_max_sym_exp_per_step: 50\n",
      "      alsd_max_target_len: 2.0\n",
      "      nsc_max_timesteps_expansion: 1\n",
      "      nsc_prefix_alpha: 1\n",
      "      maes_num_steps: 2\n",
      "      maes_prefix_alpha: 1\n",
      "      maes_expansion_gamma: 2.3\n",
      "      maes_expansion_beta: 2\n",
      "      language_model: null\n",
      "      softmax_temperature: 1.0\n",
      "      preserve_alignments: false\n",
      "      ngram_lm_model: null\n",
      "      ngram_lm_alpha: 0.0\n",
      "      hat_subtract_ilm: false\n",
      "      hat_ilm_weight: 0.0\n",
      "      tsd_max_sym_exp: 50\n",
      "    temperature: 1.0\n",
      "    durations: []\n",
      "    big_blank_durations: []\n",
      "    \n",
      "[NeMo I 2024-07-22 16:36:17 features:305] PADDING: 0\n"
     ]
    }
   ],
   "source": [
    "from src.speech import SpeechInformationRetreiver\n",
    "\n",
    "sir = SpeechInformationRetreiver(\n",
    "    model_name='stt_en_fastconformer_hybrid_large_streaming_1040ms',\n",
    "    lookahead_size=1040,\n",
    "    decoder_type='rnnt',\n",
    "    device='cpu'\n",
    ")"
   ]
  },
  {
   "cell_type": "code",
   "execution_count": 29,
   "id": "43598f78-f399-49ec-98d5-170ffa3c8bc4",
   "metadata": {},
   "outputs": [
    {
     "data": {
      "application/vnd.jupyter.widget-view+json": {
       "model_id": "affe5287bd2146e5a5a394b8f5922ddf",
       "version_major": 2,
       "version_minor": 0
      },
      "text/plain": [
       "  0%|          | 0/805 [00:00<?, ?it/s]"
      ]
     },
     "metadata": {},
     "output_type": "display_data"
    }
   ],
   "source": [
    "asr_res = sir.recognize_file(speech_path)"
   ]
  },
  {
   "cell_type": "code",
   "execution_count": 200,
   "id": "17440349-0d09-4dcb-bf33-8cd30d8c2d9b",
   "metadata": {
    "scrolled": true
   },
   "outputs": [
    {
     "data": {
      "text/plain": [
       "8"
      ]
     },
     "execution_count": 200,
     "metadata": {},
     "output_type": "execute_result"
    }
   ],
   "source": [
    "import src.speech.bridge\n",
    "reload(src.speech.bridge)\n",
    "from src.speech.bridge import SpeechBridge\n",
    "\n",
    "\n",
    "bridge = SpeechBridge(num_keywords=5)\n",
    "speech_segments = bridge.to_events(asr_res, max_dist=10., extract_kw=True)\n",
    "len(speech_segments)"
   ]
  },
  {
   "cell_type": "code",
   "execution_count": 201,
   "id": "b7114f68-8247-4d5f-8230-1d8a0116c1a8",
   "metadata": {
    "scrolled": true
   },
   "outputs": [
    {
     "data": {
      "text/plain": [
       "[{'text': 'meditation, sit, mindfulness, relaxation, breath',\n",
       "  'start': 35.85590062111801,\n",
       "  'end': 126.61614906832297,\n",
       "  'duration': 90.76024844720496,\n",
       "  'arousal': 0.3425825736632473,\n",
       "  'valence': 0.4527522483415772,\n",
       "  'dominance': 0.4466206155848085},\n",
       " {'text': 'breaths, exhale, breath, immersing, feeling',\n",
       "  'start': 161.35155279503104,\n",
       "  'end': 229.70186335403724,\n",
       "  'duration': 68.3503105590062,\n",
       "  'arousal': 0.33670357896222014,\n",
       "  'valence': 0.3903557315137652,\n",
       "  'dominance': 0.430416595670912},\n",
       " {'text': 'breath, meditation, rhythmic, rhythm, dance',\n",
       "  'start': 292.4496894409938,\n",
       "  'end': 357.4385093167702,\n",
       "  'duration': 64.98881987577641,\n",
       "  'arousal': 0.34769820994801,\n",
       "  'valence': 0.401525159544415,\n",
       "  'dominance': 0.4336150125331349},\n",
       " {'text': 'comforting, breast, breath, distractions, gentle',\n",
       "  'start': 414.583850931677,\n",
       "  'end': 491.8981366459627,\n",
       "  'duration': 77.31428571428575,\n",
       "  'arousal': 0.3478513020442592,\n",
       "  'valence': 0.42234713011317787,\n",
       "  'dominance': 0.4345483610696263},\n",
       " {'text': 'navel, abdomen, inhale, exhale, inhalation',\n",
       "  'start': 534.4770186335403,\n",
       "  'end': 575.935403726708,\n",
       "  'duration': 41.45838509316775,\n",
       "  'arousal': 0.3575540684784452,\n",
       "  'valence': 0.44327550288289785,\n",
       "  'dominance': 0.4366264181832472},\n",
       " {'text': 'mindfulness, sensations, embrace, emotion, breath',\n",
       "  'start': 609.5503105590062,\n",
       "  'end': 670.0571428571428,\n",
       "  'duration': 60.5068322981366,\n",
       "  'arousal': 0.34186035714422663,\n",
       "  'valence': 0.44762811694915094,\n",
       "  'dominance': 0.44088268962999183},\n",
       " {'text': 'meditation, consciousness, shift, feel, reflect',\n",
       "  'start': 736.1664596273291,\n",
       "  'end': 773.1428571428571,\n",
       "  'duration': 36.97639751552799,\n",
       "  'arousal': 0.3652830210824808,\n",
       "  'valence': 0.4526880197227002,\n",
       "  'dominance': 0.44393390355010826},\n",
       " {'text': 'resignation, tranquility, fulness, passive, calm',\n",
       "  'start': 784.3478260869565,\n",
       "  'end': 868.3850931677018,\n",
       "  'duration': 84.03726708074532,\n",
       "  'arousal': 0.3401897584398587,\n",
       "  'valence': 0.41838387822111456,\n",
       "  'dominance': 0.4389656836787859}]"
      ]
     },
     "execution_count": 201,
     "metadata": {},
     "output_type": "execute_result"
    }
   ],
   "source": [
    "speech_segments"
   ]
  },
  {
   "cell_type": "code",
   "execution_count": 110,
   "id": "4cfb9e52-9359-4011-88d1-92d468aecd01",
   "metadata": {},
   "outputs": [
    {
     "name": "stderr",
     "output_type": "stream",
     "text": [
      "[   INFO   ] TensorflowPredict: Successfully loaded graph file: `mir_weights//discogs-effnet-bs64-1.pb`\n",
      "[   INFO   ] TensorflowPredict: Successfully loaded graph file: `mir_weights//mtg_jamendo_genre-discogs-effnet-1.pb`\n",
      "[   INFO   ] TensorflowPredict: Successfully loaded graph file: `mir_weights//mtg_jamendo_instrument-discogs-effnet-1.pb`\n",
      "[   INFO   ] TensorflowPredict: Successfully loaded graph file: `mir_weights//msd-musicnn-1.pb`\n",
      "[   INFO   ] TensorflowPredict: Successfully loaded graph file: `mir_weights//emomusic-msd-musicnn-2.pb`\n"
     ]
    }
   ],
   "source": [
    "import src.music.mir \n",
    "reload(src.music.mir)\n",
    "from src.music.mir import MusicInformationRetreiver\n",
    "\n",
    "mir = MusicInformationRetreiver(weights_path='mir_weights/', segment_threshold=0.15)"
   ]
  },
  {
   "cell_type": "code",
   "execution_count": 111,
   "id": "c90bea5d-8379-49d9-9d8e-183eadfd9c3d",
   "metadata": {},
   "outputs": [
    {
     "data": {
      "application/vnd.jupyter.widget-view+json": {
       "model_id": "33f4e388c63747139fea6130b75207b5",
       "version_major": 2,
       "version_minor": 0
      },
      "text/plain": [
       "  0%|          | 0/30 [00:00<?, ?it/s]"
      ]
     },
     "metadata": {},
     "output_type": "display_data"
    },
    {
     "name": "stderr",
     "output_type": "stream",
     "text": [
      "[   INFO   ] TensorflowPredict: Successfully loaded graph file: `mir_weights//mtg_jamendo_genre-discogs-effnet-1.pb`\n",
      "[   INFO   ] TensorflowPredict: Successfully loaded graph file: `mir_weights//mtg_jamendo_instrument-discogs-effnet-1.pb`\n"
     ]
    }
   ],
   "source": [
    "mir_res = mir.recognize_file(music_path)"
   ]
  },
  {
   "cell_type": "code",
   "execution_count": 202,
   "id": "b94511af-0a0e-4efc-b9bd-fe3a3abdc0be",
   "metadata": {},
   "outputs": [
    {
     "data": {
      "text/plain": [
       "9"
      ]
     },
     "execution_count": 202,
     "metadata": {},
     "output_type": "execute_result"
    }
   ],
   "source": [
    "import src.music.bridge\n",
    "reload(src.music.bridge)\n",
    "from src.music.bridge import MusicBridge\n",
    "\n",
    "\n",
    "bridge = MusicBridge(mir.genre_classes, mir.inst_classes)\n",
    "music_segments = bridge.extract_segments(mir_res, class_threshold=0.3)\n",
    "len(music_segments)"
   ]
  },
  {
   "cell_type": "code",
   "execution_count": 204,
   "id": "43bd23f4-df3f-4069-903f-d2a0ea5bee22",
   "metadata": {
    "scrolled": true
   },
   "outputs": [
    {
     "data": {
      "text/plain": [
       "[{'start': 0,\n",
       "  'end': 177.76,\n",
       "  'duration': 177.76,\n",
       "  'valence': 0.00077042304,\n",
       "  'arousal': 0.0012349887,\n",
       "  'text': 'ambient, electronic, synthesizer'},\n",
       " {'start': 177.76,\n",
       "  'end': 463.2,\n",
       "  'duration': 285.44,\n",
       "  'valence': 0.00036098604,\n",
       "  'arousal': 0.00062089675,\n",
       "  'text': 'ambient, electronic, synthesizer'},\n",
       " {'start': 463.2,\n",
       "  'end': 556.256,\n",
       "  'duration': 93.05599999999998,\n",
       "  'valence': 0.00047147647,\n",
       "  'arousal': 0.0011773775,\n",
       "  'text': 'ambient, electronic, synthesizer'},\n",
       " {'start': 556.256,\n",
       "  'end': 605.184,\n",
       "  'duration': 48.928,\n",
       "  'valence': 0.00025228475,\n",
       "  'arousal': 0.00054264185,\n",
       "  'text': 'ambient, electronic, synthesizer'},\n",
       " {'start': 605.184,\n",
       "  'end': 651.648,\n",
       "  'duration': 46.464000000000055,\n",
       "  'valence': 0.00030476876,\n",
       "  'arousal': 0.00059747236,\n",
       "  'text': 'ambient, electronic, synthesizer'},\n",
       " {'start': 651.648,\n",
       "  'end': 694.88,\n",
       "  'duration': 43.23199999999997,\n",
       "  'valence': 0.00044553317,\n",
       "  'arousal': 0.00089731644,\n",
       "  'text': 'ambient, electronic, synthesizer'},\n",
       " {'start': 694.88,\n",
       "  'end': 735.52,\n",
       "  'duration': 40.639999999999986,\n",
       "  'valence': 0.000324202,\n",
       "  'arousal': 0.0007062801,\n",
       "  'text': 'ambient, electronic, synthesizer'},\n",
       " {'start': 735.52,\n",
       "  'end': 754.688,\n",
       "  'duration': 19.168000000000006,\n",
       "  'valence': 0.00025911178,\n",
       "  'arousal': 0.0005305292,\n",
       "  'text': 'ambient, electronic, synthesizer'},\n",
       " {'start': 754.688,\n",
       "  'end': 908.056625,\n",
       "  'duration': 153.36862500000007,\n",
       "  'valence': 0.00032548726,\n",
       "  'arousal': 0.0006676334,\n",
       "  'text': 'ambient, electronic, synthesizer'}]"
      ]
     },
     "execution_count": 204,
     "metadata": {},
     "output_type": "execute_result"
    }
   ],
   "source": [
    "music_segments"
   ]
  },
  {
   "cell_type": "code",
   "execution_count": 225,
   "id": "48e9a657-c122-4c8f-9374-063e4c3bf16e",
   "metadata": {},
   "outputs": [],
   "source": [
    "import matplotlib.pyplot as plt\n",
    "import numpy as np\n",
    "\n",
    "def plot_segments(speech_segments, music_segments, add_text=True):\n",
    "    # Sort segments by start time\n",
    "    speech_segments.sort(key=lambda x: x['start'])\n",
    "    music_segments.sort(key=lambda x: x['start'])\n",
    "\n",
    "    fig, (ax1, ax2) = plt.subplots(2, 1, figsize=(15, 5), sharex=True)\n",
    "\n",
    "    # Plot speech segments\n",
    "    speech_colors = plt.cm.rainbow(np.linspace(0, 1, len(speech_segments)))\n",
    "    for idx, seg in enumerate(speech_segments):\n",
    "        rect = plt.Rectangle(\n",
    "            xy=(seg['start'], 0), \n",
    "            width=seg['end'] - seg['start'], \n",
    "            height=1, facecolor=speech_colors[idx], alpha=0.5, edgecolor='black'\n",
    "        )\n",
    "        ax1.add_patch(rect)\n",
    "        \n",
    "        if add_text:\n",
    "            ax1.text(\n",
    "                x=(seg['start'] + seg['end']) / 2, \n",
    "                y=0.5, \n",
    "                s=seg['text'].replace(', ', '\\n'), \n",
    "                ha='center', va='center', fontsize=8, fontweight='bold', wrap=True\n",
    "            )\n",
    "\n",
    "    # Plot music segments\n",
    "    music_colors = plt.cm.rainbow(np.linspace(0, 1, len(music_segments)))\n",
    "    for idx, seg in enumerate(music_segments):\n",
    "        rect = plt.Rectangle(\n",
    "            xy=(seg['start'], 0), \n",
    "            width=seg['end'] - seg['start'], \n",
    "            height=1, facecolor=music_colors[idx], alpha=0.5, edgecolor='black'\n",
    "        )\n",
    "        ax2.add_patch(rect)\n",
    "        \n",
    "        if add_text:\n",
    "            ax2.text(\n",
    "                x=(seg['start'] + seg['end']) / 2, \n",
    "                y=0.5, \n",
    "                s=seg['text'].replace(', ', '\\n'), \n",
    "                ha='center', va='center', fontsize=8, fontweight='bold', wrap=True\n",
    "            )\n",
    "    \n",
    "    # Set y-axis limits and labels\n",
    "    ax1.set_ylim(0, 1)\n",
    "    ax1.set_yticks([])\n",
    "    ax1.set_ylabel('Speech Segments')\n",
    "\n",
    "    ax2.set_ylim(0, 1)\n",
    "    ax2.set_yticks([])\n",
    "    ax2.set_ylabel('Music Segments')\n",
    "    ax2.set_xlabel('Time (s)')\n",
    "\n",
    "    # Set x-axis limits to the full range of segments\n",
    "    all_segments = speech_segments + music_segments\n",
    "    if all_segments:\n",
    "        ax1.set_xlim(min(seg['start'] for seg in all_segments), max(seg['end'] for seg in all_segments))\n",
    "\n",
    "    plt.tight_layout()\n",
    "    plt.show()\n"
   ]
  },
  {
   "cell_type": "code",
   "execution_count": 226,
   "id": "62d74f85-acb3-4ea6-b9af-e35fd7a1077b",
   "metadata": {},
   "outputs": [
    {
     "data": {
      "image/png": "[encoded data removed]",
      "text/plain": [
       "<Figure size 1500x500 with 2 Axes>"
      ]
     },
     "metadata": {},
     "output_type": "display_data"
    }
   ],
   "source": [
    "plot_segments(speech_segments, music_segments, add_text=True)"
   ]
  },
  {
   "cell_type": "code",
   "execution_count": null,
   "id": "19cc0f3c-e295-4f0a-a139-db4420cc680e",
   "metadata": {},
   "outputs": [],
   "source": []
  }
 ],
 "metadata": {
  "kernelspec": {
   "display_name": "Python 3 (ipykernel)",
   "language": "python",
   "name": "python3"
  },
  "language_info": {
   "codemirror_mode": {
    "name": "ipython",
    "version": 3
   },
   "file_extension": ".py",
   "mimetype": "text/x-python",
   "name": "python",
   "nbconvert_exporter": "python",
   "pygments_lexer": "ipython3",
   "version": "3.10.14"
  }
 },
 "nbformat": 4,
 "nbformat_minor": 5
}
