{
 "cells": [
  {
   "cell_type": "code",
   "execution_count": 6,
   "id": "570b0e13-d6c9-468b-9f81-72562b29a020",
   "metadata": {},
   "outputs": [],
   "source": [
    "from src.music import MIR\n",
    "from src.speech import ASR, SER\n",
    "import matplotlib.pyplot as plt"
   ]
  },
  {
   "cell_type": "code",
   "execution_count": 2,
   "id": "f275900a-ebb1-4092-9566-4d53d11583e0",
   "metadata": {
    "scrolled": true
   },
   "outputs": [
    {
     "name": "stdout",
     "output_type": "stream",
     "text": [
      "[NeMo I 2024-07-09 02:53:34 cloud:58] Found existing object /Users/soroush/.cache/torch/NeMo/NeMo_2.0.0rc1/stt_en_fastconformer_hybrid_large_streaming_1040ms/666909d8ac36ad698d0451f58f12594c/stt_en_fastconformer_hybrid_large_streaming_1040ms.nemo.\n",
      "[NeMo I 2024-07-09 02:53:34 cloud:64] Re-using file from: /Users/soroush/.cache/torch/NeMo/NeMo_2.0.0rc1/stt_en_fastconformer_hybrid_large_streaming_1040ms/666909d8ac36ad698d0451f58f12594c/stt_en_fastconformer_hybrid_large_streaming_1040ms.nemo\n",
      "[NeMo I 2024-07-09 02:53:34 common:826] Instantiating model from pre-trained checkpoint\n",
      "[NeMo I 2024-07-09 02:53:35 mixins:172] Tokenizer SentencePieceTokenizer initialized with 1024 tokens\n"
     ]
    },
    {
     "name": "stderr",
     "output_type": "stream",
     "text": [
      "[NeMo W 2024-07-09 02:53:35 modelPT:176] If you intend to do training or fine-tuning, please call the ModelPT.setup_training_data() method and provide a valid configuration file to setup the train data loader.\n",
      "    Train config : \n",
      "    manifest_filepath:\n",
      "    - - /raid/local//bucket1/tarred_audio_manifest.json\n",
      "    - - /raid/local//bucket2/tarred_audio_manifest.json\n",
      "    - - /raid/local//bucket3/tarred_audio_manifest.json\n",
      "    - - /raid/local//bucket4/tarred_audio_manifest.json\n",
      "    - - /raid/local//bucket5/tarred_audio_manifest.json\n",
      "    - - /raid/local//bucket6/tarred_audio_manifest.json\n",
      "    - - /raid/local//bucket7/tarred_audio_manifest.json\n",
      "    - - /raid/local//bucket8/tarred_audio_manifest.json\n",
      "    sample_rate: 16000\n",
      "    batch_size: 1\n",
      "    shuffle: true\n",
      "    num_workers: 4\n",
      "    pin_memory: true\n",
      "    use_start_end_token: false\n",
      "    trim_silence: false\n",
      "    max_duration: 25\n",
      "    min_duration: 0.1\n",
      "    is_tarred: true\n",
      "    tarred_audio_filepaths:\n",
      "    - - /data2/nemo_asr/nemo_asr_set_3.0//bucket1/audio__OP_0..8191_CL_.tar\n",
      "    - - /data2/nemo_asr/nemo_asr_set_3.0//bucket2/audio__OP_0..8191_CL_.tar\n",
      "    - - /data2/nemo_asr/nemo_asr_set_3.0//bucket3/audio__OP_0..8191_CL_.tar\n",
      "    - - /data2/nemo_asr/nemo_asr_set_3.0//bucket4/audio__OP_0..8191_CL_.tar\n",
      "    - - /data2/nemo_asr/nemo_asr_set_3.0//bucket5/audio__OP_0..8191_CL_.tar\n",
      "    - - /data2/nemo_asr/nemo_asr_set_3.0//bucket6/audio__OP_0..8191_CL_.tar\n",
      "    - - /data2/nemo_asr/nemo_asr_set_3.0//bucket7/audio__OP_0..8191_CL_.tar\n",
      "    - - /data2/nemo_asr/nemo_asr_set_3.0//bucket8/audio__OP_0..8191_CL_.tar\n",
      "    shuffle_n: 2048\n",
      "    bucketing_strategy: fully_randomized\n",
      "    bucketing_batch_size:\n",
      "    - 72\n",
      "    - 64\n",
      "    - 56\n",
      "    - 48\n",
      "    - 40\n",
      "    - 32\n",
      "    - 24\n",
      "    - 16\n",
      "    \n",
      "[NeMo W 2024-07-09 02:53:35 modelPT:183] If you intend to do validation, please call the ModelPT.setup_validation_data() or ModelPT.setup_multiple_validation_data() method and provide a valid configuration file to setup the validation data loader(s). \n",
      "    Validation config : \n",
      "    manifest_filepath:\n",
      "    - /manifests/librispeech/librivox-dev-other.json\n",
      "    - /manifests/librispeech/librivox-dev-clean.json\n",
      "    - /manifests/librispeech/librivox-test-other.json\n",
      "    - /manifests/librispeech/librivox-test-clean.json\n",
      "    sample_rate: 16000\n",
      "    batch_size: 16\n",
      "    shuffle: false\n",
      "    num_workers: 8\n",
      "    pin_memory: true\n",
      "    use_start_end_token: false\n",
      "    \n",
      "[NeMo W 2024-07-09 02:53:35 modelPT:189] Please call the ModelPT.setup_test_data() or ModelPT.setup_multiple_test_data() method and provide a valid configuration file to setup the test data loader(s).\n",
      "    Test config : \n",
      "    manifest_filepath:\n",
      "    - /manifests/librispeech/librivox-dev-other.json\n",
      "    - /manifests/librispeech/librivox-dev-clean.json\n",
      "    - /manifests/librispeech/librivox-test-other.json\n",
      "    - /manifests/librispeech/librivox-test-clean.json\n",
      "    sample_rate: 16000\n",
      "    batch_size: 16\n",
      "    shuffle: false\n",
      "    num_workers: 8\n",
      "    pin_memory: true\n",
      "    use_start_end_token: false\n",
      "    \n"
     ]
    },
    {
     "name": "stdout",
     "output_type": "stream",
     "text": [
      "[NeMo I 2024-07-09 02:53:35 features:305] PADDING: 0\n"
     ]
    },
    {
     "name": "stderr",
     "output_type": "stream",
     "text": [
      "[NeMo W 2024-07-09 02:53:36 nemo_logging:349] /Users/soroush/lucid_env/lib/python3.10/site-packages/torch/nn/modules/rnn.py:83: UserWarning: dropout option adds dropout after all but last recurrent layer, so non-zero dropout expects num_layers greater than 1, but got dropout=0.2 and num_layers=1\n",
      "      warnings.warn(\"dropout option adds dropout after all but last \"\n",
      "    \n"
     ]
    },
    {
     "name": "stdout",
     "output_type": "stream",
     "text": [
      "[NeMo I 2024-07-09 02:53:36 rnnt_models:224] Using RNNT Loss : warprnnt_numba\n",
      "    Loss warprnnt_numba_kwargs: {'fastemit_lambda': 0.001, 'clamp': -1.0}\n",
      "[NeMo I 2024-07-09 02:53:36 rnnt_models:224] Using RNNT Loss : warprnnt_numba\n",
      "    Loss warprnnt_numba_kwargs: {'fastemit_lambda': 0.001, 'clamp': -1.0}\n"
     ]
    },
    {
     "name": "stderr",
     "output_type": "stream",
     "text": [
      "[NeMo W 2024-07-09 02:53:36 rnnt_loop_labels_computer:270] No conditional node support for Cuda.\n",
      "    Cuda graphs with while loops are disabled, decoding speed will be slower\n",
      "    Reason: No `cuda-python` module. Please do `pip install cuda-python>=12.3`\n"
     ]
    },
    {
     "name": "stdout",
     "output_type": "stream",
     "text": [
      "[NeMo I 2024-07-09 02:53:36 rnnt_models:224] Using RNNT Loss : warprnnt_numba\n",
      "    Loss warprnnt_numba_kwargs: {'fastemit_lambda': 0.001, 'clamp': -1.0}\n"
     ]
    },
    {
     "name": "stderr",
     "output_type": "stream",
     "text": [
      "[NeMo W 2024-07-09 02:53:36 rnnt_loop_labels_computer:270] No conditional node support for Cuda.\n",
      "    Cuda graphs with while loops are disabled, decoding speed will be slower\n",
      "    Reason: No `cuda-python` module. Please do `pip install cuda-python>=12.3`\n"
     ]
    },
    {
     "name": "stdout",
     "output_type": "stream",
     "text": [
      "[NeMo I 2024-07-09 02:53:36 save_restore_connector:263] Model EncDecHybridRNNTCTCBPEModel was successfully restored from /Users/soroush/.cache/torch/NeMo/NeMo_2.0.0rc1/stt_en_fastconformer_hybrid_large_streaming_1040ms/666909d8ac36ad698d0451f58f12594c/stt_en_fastconformer_hybrid_large_streaming_1040ms.nemo.\n",
      "[NeMo I 2024-07-09 02:53:36 hybrid_rnnt_ctc_bpe_models:422] No `decoding_cfg` passed when changing decoding strategy, using internal config\n",
      "[NeMo I 2024-07-09 02:53:36 rnnt_models:224] Using RNNT Loss : warprnnt_numba\n",
      "    Loss warprnnt_numba_kwargs: {'fastemit_lambda': 0.001, 'clamp': -1.0}\n"
     ]
    },
    {
     "name": "stderr",
     "output_type": "stream",
     "text": [
      "[NeMo W 2024-07-09 02:53:36 rnnt_loop_labels_computer:270] No conditional node support for Cuda.\n",
      "    Cuda graphs with while loops are disabled, decoding speed will be slower\n",
      "    Reason: No `cuda-python` module. Please do `pip install cuda-python>=12.3`\n"
     ]
    },
    {
     "name": "stdout",
     "output_type": "stream",
     "text": [
      "[NeMo I 2024-07-09 02:53:36 hybrid_rnnt_ctc_bpe_models:457] Changed decoding strategy of the RNNT decoder to \n",
      "    model_type: rnnt\n",
      "    strategy: greedy_batch\n",
      "    compute_hypothesis_token_set: false\n",
      "    preserve_alignments: null\n",
      "    confidence_cfg:\n",
      "      preserve_frame_confidence: false\n",
      "      preserve_token_confidence: false\n",
      "      preserve_word_confidence: false\n",
      "      exclude_blank: true\n",
      "      aggregation: min\n",
      "      tdt_include_duration: false\n",
      "      method_cfg:\n",
      "        name: entropy\n",
      "        entropy_type: tsallis\n",
      "        alpha: 0.33\n",
      "        entropy_norm: exp\n",
      "        temperature: DEPRECATED\n",
      "    fused_batch_size: null\n",
      "    compute_timestamps: null\n",
      "    compute_langs: false\n",
      "    word_seperator: ' '\n",
      "    rnnt_timestamp_type: all\n",
      "    greedy:\n",
      "      max_symbols_per_step: 10\n",
      "      preserve_alignments: false\n",
      "      preserve_frame_confidence: false\n",
      "      tdt_include_duration_confidence: false\n",
      "      confidence_method_cfg:\n",
      "        name: entropy\n",
      "        entropy_type: tsallis\n",
      "        alpha: 0.33\n",
      "        entropy_norm: exp\n",
      "        temperature: DEPRECATED\n",
      "      loop_labels: true\n",
      "      use_cuda_graph_decoder: true\n",
      "      max_symbols: 10\n",
      "    beam:\n",
      "      beam_size: 5\n",
      "      search_type: default\n",
      "      score_norm: true\n",
      "      return_best_hypothesis: false\n",
      "      tsd_max_sym_exp_per_step: 50\n",
      "      alsd_max_target_len: 2.0\n",
      "      nsc_max_timesteps_expansion: 1\n",
      "      nsc_prefix_alpha: 1\n",
      "      maes_num_steps: 2\n",
      "      maes_prefix_alpha: 1\n",
      "      maes_expansion_gamma: 2.3\n",
      "      maes_expansion_beta: 2\n",
      "      language_model: null\n",
      "      softmax_temperature: 1.0\n",
      "      preserve_alignments: false\n",
      "      ngram_lm_model: null\n",
      "      ngram_lm_alpha: 0.0\n",
      "      hat_subtract_ilm: false\n",
      "      hat_ilm_weight: 0.0\n",
      "      tsd_max_sym_exp: 50\n",
      "    temperature: 1.0\n",
      "    durations: []\n",
      "    big_blank_durations: []\n",
      "    \n",
      "[NeMo I 2024-07-09 02:53:36 rnnt_models:224] Using RNNT Loss : warprnnt_numba\n",
      "    Loss warprnnt_numba_kwargs: {'fastemit_lambda': 0.001, 'clamp': -1.0}\n",
      "[NeMo I 2024-07-09 02:53:36 rnnt_decoding:730] Joint fused batch size <= 0; Will temporarily disable fused batch step in the Joint.\n",
      "[NeMo I 2024-07-09 02:53:36 hybrid_rnnt_ctc_bpe_models:457] Changed decoding strategy of the RNNT decoder to \n",
      "    model_type: rnnt\n",
      "    strategy: greedy\n",
      "    compute_hypothesis_token_set: false\n",
      "    preserve_alignments: false\n",
      "    confidence_cfg:\n",
      "      preserve_frame_confidence: false\n",
      "      preserve_token_confidence: false\n",
      "      preserve_word_confidence: false\n",
      "      exclude_blank: true\n",
      "      aggregation: min\n",
      "      tdt_include_duration: false\n",
      "      method_cfg:\n",
      "        name: entropy\n",
      "        entropy_type: tsallis\n",
      "        alpha: 0.33\n",
      "        entropy_norm: exp\n",
      "        temperature: DEPRECATED\n",
      "    fused_batch_size: -1\n",
      "    compute_timestamps: null\n",
      "    compute_langs: false\n",
      "    word_seperator: ' '\n",
      "    rnnt_timestamp_type: all\n",
      "    greedy:\n",
      "      max_symbols_per_step: 10\n",
      "      preserve_alignments: false\n",
      "      preserve_frame_confidence: false\n",
      "      tdt_include_duration_confidence: false\n",
      "      confidence_method_cfg:\n",
      "        name: entropy\n",
      "        entropy_type: tsallis\n",
      "        alpha: 0.33\n",
      "        entropy_norm: exp\n",
      "        temperature: DEPRECATED\n",
      "      loop_labels: true\n",
      "      use_cuda_graph_decoder: true\n",
      "      max_symbols: 10\n",
      "    beam:\n",
      "      beam_size: 5\n",
      "      search_type: default\n",
      "      score_norm: true\n",
      "      return_best_hypothesis: false\n",
      "      tsd_max_sym_exp_per_step: 50\n",
      "      alsd_max_target_len: 2.0\n",
      "      nsc_max_timesteps_expansion: 1\n",
      "      nsc_prefix_alpha: 1\n",
      "      maes_num_steps: 2\n",
      "      maes_prefix_alpha: 1\n",
      "      maes_expansion_gamma: 2.3\n",
      "      maes_expansion_beta: 2\n",
      "      language_model: null\n",
      "      softmax_temperature: 1.0\n",
      "      preserve_alignments: false\n",
      "      ngram_lm_model: null\n",
      "      ngram_lm_alpha: 0.0\n",
      "      hat_subtract_ilm: false\n",
      "      hat_ilm_weight: 0.0\n",
      "      tsd_max_sym_exp: 50\n",
      "    temperature: 1.0\n",
      "    durations: []\n",
      "    big_blank_durations: []\n",
      "    \n",
      "[NeMo I 2024-07-09 02:53:36 features:305] PADDING: 0\n"
     ]
    },
    {
     "name": "stderr",
     "output_type": "stream",
     "text": [
      "[NeMo W 2024-07-09 02:53:36 nemo_logging:349] /Users/soroush/lucid_env/lib/python3.10/site-packages/huggingface_hub/file_download.py:1132: FutureWarning: `resume_download` is deprecated and will be removed in version 1.0.0. Downloads always resume when possible. If you want to force a new download, use `force_download=True`.\n",
      "      warnings.warn(\n",
      "    \n",
      "[NeMo W 2024-07-09 02:53:36 nemo_logging:349] /Users/soroush/lucid_env/lib/python3.10/site-packages/transformers/configuration_utils.py:363: UserWarning: Passing `gradient_checkpointing` to a config initialization is deprecated and will be removed in v5 Transformers. Using `model.gradient_checkpointing_enable()` instead, or if you are using the `Trainer` API, pass `gradient_checkpointing=True` in your `TrainingArguments`.\n",
      "      warnings.warn(\n",
      "    \n",
      "Some weights of Wav2Vec2Model were not initialized from the model checkpoint at facebook/wav2vec2-base and are newly initialized: ['wav2vec2.encoder.pos_conv_embed.conv.parametrizations.weight.original0', 'wav2vec2.encoder.pos_conv_embed.conv.parametrizations.weight.original1']\n",
      "You should probably TRAIN this model on a down-stream task to be able to use it for predictions and inference.\n",
      "speechbrain.lobes.models.huggingface_transformers.huggingface - Wav2Vec2Model is frozen.\n",
      "Some weights of EmotionDimensionModel were not initialized from the model checkpoint at audeering/wav2vec2-large-robust-12-ft-emotion-msp-dim and are newly initialized: ['wav2vec2.encoder.pos_conv_embed.conv.parametrizations.weight.original0', 'wav2vec2.encoder.pos_conv_embed.conv.parametrizations.weight.original1']\n",
      "You should probably TRAIN this model on a down-stream task to be able to use it for predictions and inference.\n"
     ]
    }
   ],
   "source": [
    "music_path = 'assets/ambienceTrack_001(1).mp3'\n",
    "speech_path = 'assets/LANDR- Meditation- Transcend 15 Mins-Balanced-Medium.mp3'\n",
    "\n",
    "\n",
    "# mir = MIR(weights_path='mir_weights/', distance_threshold=0.1)\n",
    "asr = ASR(\n",
    "    model_name='stt_en_fastconformer_hybrid_large_streaming_1040ms',\n",
    "    lookahead_size=1040,\n",
    "    decoder_type='rnnt',\n",
    "    device='cpu'\n",
    ")\n",
    "ser = SER(\n",
    "    chunk_size=asr.chunk_size, \n",
    "    device='cpu'\n",
    ")"
   ]
  },
  {
   "cell_type": "code",
   "execution_count": 9,
   "id": "43598f78-f399-49ec-98d5-170ffa3c8bc4",
   "metadata": {},
   "outputs": [
    {
     "data": {
      "application/vnd.jupyter.widget-view+json": {
       "model_id": "7744e094e4e743b296c973e28cb07a69",
       "version_major": 2,
       "version_minor": 0
      },
      "text/plain": [
       "  0%|          | 0/803 [00:00<?, ?it/s]"
      ]
     },
     "metadata": {},
     "output_type": "display_data"
    }
   ],
   "source": [
    "asr_res = asr.transcribe_file(speech_path)\n",
    "# ser_res = ser.recognize_file(speech_path)"
   ]
  },
  {
   "cell_type": "code",
   "execution_count": 7,
   "id": "8df783d2-dd53-4174-93c8-23b46f944da9",
   "metadata": {},
   "outputs": [
    {
     "data": {
      "text/plain": [
       "<matplotlib.legend.Legend at 0x2b9be2350>"
      ]
     },
     "execution_count": 7,
     "metadata": {},
     "output_type": "execute_result"
    },
    {
     "data": {
      "image/png": "[encoded data removed]",
      "text/plain": [
       "<Figure size 640x480 with 1 Axes>"
      ]
     },
     "metadata": {},
     "output_type": "display_data"
    }
   ],
   "source": [
    "plt.plot(ser_res['valence'], label='valence')\n",
    "plt.plot(ser_res['arousal'], label='arousal')\n",
    "plt.plot(ser_res['dominance'], label='dominance')\n",
    "plt.legend()"
   ]
  },
  {
   "cell_type": "code",
   "execution_count": 10,
   "id": "15b2de24-d12a-4087-b737-8d8e826e1dc1",
   "metadata": {},
   "outputs": [
    {
     "ename": "NameError",
     "evalue": "name 'mir' is not defined",
     "output_type": "error",
     "traceback": [
      "\u001b[0;31m---------------------------------------------------------------------------\u001b[0m",
      "\u001b[0;31mNameError\u001b[0m                                 Traceback (most recent call last)",
      "Cell \u001b[0;32mIn[10], line 1\u001b[0m\n\u001b[0;32m----> 1\u001b[0m mir_res \u001b[38;5;241m=\u001b[39m \u001b[43mmir\u001b[49m\u001b[38;5;241m.\u001b[39mrecognize_file(music_path)\n",
      "\u001b[0;31mNameError\u001b[0m: name 'mir' is not defined"
     ]
    }
   ],
   "source": [
    "mir_res = mir.recognize_file(music_path)"
   ]
  },
  {
   "cell_type": "code",
   "execution_count": null,
   "id": "faf8323e-b840-4f2a-9fcd-47a183d967ac",
   "metadata": {},
   "outputs": [],
   "source": []
  }
 ],
 "metadata": {
  "kernelspec": {
   "display_name": "Python 3 (ipykernel)",
   "language": "python",
   "name": "python3"
  },
  "language_info": {
   "codemirror_mode": {
    "name": "ipython",
    "version": 3
   },
   "file_extension": ".py",
   "mimetype": "text/x-python",
   "name": "python",
   "nbconvert_exporter": "python",
   "pygments_lexer": "ipython3",
   "version": "3.10.14"
  }
 },
 "nbformat": 4,
 "nbformat_minor": 5
}
