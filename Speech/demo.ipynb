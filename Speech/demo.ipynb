{
 "cells": [
  {
   "cell_type": "code",
   "execution_count": 1,
   "id": "e379c826-7911-4ed7-8ecd-943876d7a6ef",
   "metadata": {},
   "outputs": [],
   "source": [
    "from importlib import reload\n",
    "import warnings\n",
    "warnings.filterwarnings(\"ignore\")"
   ]
  },
  {
   "cell_type": "code",
   "execution_count": null,
   "id": "fab9064e-ea23-4c19-ad80-d2011ba980e5",
   "metadata": {},
   "outputs": [],
   "source": [
    "from Speech.src.ser import SER\n",
    "from Speech.src.asr import ASR\n",
    "\n",
    "\n",
    "asr_module = ASR(\n",
    "    model_name='stt_en_fastconformer_hybrid_large_streaming_1040ms',\n",
    "    lookahead_size=1040,\n",
    "    decoder_type='rnnt',\n",
    "    device='cpu'\n",
    ")\n",
    "\n",
    "ser_module = SER(\n",
    "    chunk_size=asr_module.chunk_size, \n",
    "    device='cpu'\n",
    ")"
   ]
  },
  {
   "cell_type": "code",
   "execution_count": 27,
   "id": "272b08ef-0e17-471e-b4e8-45d4902a0d4c",
   "metadata": {
    "scrolled": true
   },
   "outputs": [
    {
     "data": {
      "application/vnd.jupyter.widget-view+json": {
       "model_id": "19f934c04cd54cd0b2dcc07eb5a14507",
       "version_major": 2,
       "version_minor": 0
      },
      "text/plain": [
       "  0%|          | 0/803 [00:00<?, ?it/s]"
      ]
     },
     "metadata": {},
     "output_type": "display_data"
    },
    {
     "data": {
      "text/plain": [
       "\"welcome to this meditation journey where you will find calm amidst the turbulence of the seaman i'll be your guide a comfortable seated or lying position and gently close your eyes by taking a few deep breaths allowing your body to relax your mind to settle imagine yourself on a small vessel at sea gently being carried by the swells the whole ocean seems to be an upheaval around you yet beneath the surface the depth of the ocean is at rest the vastness of the ocean its waves rising falling but would feel the stillness at its core now select mantra resonates with you it could be a simple sound like any word or phrase that brings you peace as you begin to produce this mantra synchronize it with the rhythm of your breath with each repetition of yomantra allow the music to quiet your mind let the soothing melodies was overview crediting you deeper into a state of tranquillity feel the swells of the music mirroring the rise and fall of the ocean as you continue to produce your chosen mantra you immerse yourself in sound of your mantrea and the music feel yourself become more and more grounded like the sturdy vessel amidst the stormy sea let go of any tension or worries allowing yourself to surrender to the present moment with each breath and each repetition of your mantra allow the music to lead you into a state of deep rest feel the tension melting away from your body like the waves dissipating into the vast expanse of the ocean has you continue this practice how your body and mind begin to feel lighter than mortyself to fully surrender to the experience knowing you are safe and supported by the stillness at the depth of the ocean within you stay with this practice for a few more minutes allowing yourself to fully emerge in the tranquillity of this moment music mantra you to a place of profound peace serenity when you are ready return to the present moment gently bring your awareness back to your surroundings take a few deep breaths wiggle your fingers and toes and slowly open your eyes carry the sense of calm and stillness with you as you continue your day knowing that you can always return to the depth of the ocean within you whenever you need to find peace thank you for listening to\""
      ]
     },
     "execution_count": 27,
     "metadata": {},
     "output_type": "execute_result"
    }
   ],
   "source": [
    "asr_module.transcribe_file(\n",
    "    '/Users/soroush/Desktop/LUCID/Folly/Speech/sample/LANDR- Meditation- Transcend 15 Mins-Balanced-Medium.mp3'\n",
    ")"
   ]
  },
  {
   "cell_type": "code",
   "execution_count": null,
   "id": "870a151b",
   "metadata": {},
   "outputs": [],
   "source": [
    "labels, dims = ser_module.recognize_file(\n",
    "    '/Users/soroush/Desktop/LUCID/Folly/Speech/sample/LANDR- Meditation- Transcend 15 Mins-Balanced-Medium.mp3'\n",
    ")"
   ]
  },
  {
   "cell_type": "code",
   "execution_count": 3,
   "id": "6fd9e415-2c87-4202-9441-556bfe54197e",
   "metadata": {},
   "outputs": [
    {
     "name": "stdout",
     "output_type": "stream",
     "text": [
      "Available audio input devices:\n",
      "0 MacBook Air Microphone\n",
      "2 Microsoft Teams Audio\n",
      "Please type input device ID:\n"
     ]
    }
   ],
   "source": [
    "import Speech.src.stream\n",
    "reload(Speech.src.stream)\n",
    "from Speech.src.stream import Streamer\n",
    "\n",
    "streamer = Streamer(\n",
    "    chunk_size=asr_module.chunk_size, \n",
    "    func=lambda x: (asr_module.transcribe_chunk(x), ser_module.recognize_chunk(x))\n",
    ")"
   ]
  },
  {
   "cell_type": "code",
   "execution_count": 4,
   "id": "a034c0d3",
   "metadata": {},
   "outputs": [
    {
     "name": "stdout",
     "output_type": "stream",
     "text": [
      "Listening...\n",
      "Stopped listening.long no not sad i reset well as it out turns out well', ('neu', {'Arousal': tensor(0.5733), 'dominance': tensor(0.5918), 'valence': tensor(0.4031)}))\n"
     ]
    },
    {
     "ename": "KeyboardInterrupt",
     "evalue": "",
     "output_type": "error",
     "traceback": [
      "\u001b[0;31m---------------------------------------------------------------------------\u001b[0m",
      "\u001b[0;31mKeyboardInterrupt\u001b[0m                         Traceback (most recent call last)",
      "Cell \u001b[0;32mIn[4], line 1\u001b[0m\n\u001b[0;32m----> 1\u001b[0m \u001b[43mstreamer\u001b[49m\u001b[38;5;241;43m.\u001b[39;49m\u001b[43mstart\u001b[49m\u001b[43m(\u001b[49m\u001b[43m)\u001b[49m\n",
      "File \u001b[0;32m~/Desktop/LUCID/Folly/Speech/src/stream.py:56\u001b[0m, in \u001b[0;36mStreamer.start\u001b[0;34m(self)\u001b[0m\n\u001b[1;32m     54\u001b[0m \u001b[38;5;28;01mtry\u001b[39;00m:\n\u001b[1;32m     55\u001b[0m     \u001b[38;5;28;01mwhile\u001b[39;00m stream\u001b[38;5;241m.\u001b[39mis_active():\n\u001b[0;32m---> 56\u001b[0m         \u001b[43mtime\u001b[49m\u001b[38;5;241;43m.\u001b[39;49m\u001b[43msleep\u001b[49m\u001b[43m(\u001b[49m\u001b[38;5;241;43m0.1\u001b[39;49m\u001b[43m)\u001b[49m\n\u001b[1;32m     57\u001b[0m \u001b[38;5;28;01mfinally\u001b[39;00m:        \n\u001b[1;32m     58\u001b[0m     stream\u001b[38;5;241m.\u001b[39mstop_stream()\n",
      "\u001b[0;31mKeyboardInterrupt\u001b[0m: "
     ]
    }
   ],
   "source": [
    "streamer.start()"
   ]
  },
  {
   "cell_type": "code",
   "execution_count": null,
   "id": "8d798abd",
   "metadata": {},
   "outputs": [],
   "source": []
  }
 ],
 "metadata": {
  "kernelspec": {
   "display_name": "Python 3 (ipykernel)",
   "language": "python",
   "name": "python3"
  },
  "language_info": {
   "codemirror_mode": {
    "name": "ipython",
    "version": 3
   },
   "file_extension": ".py",
   "mimetype": "text/x-python",
   "name": "python",
   "nbconvert_exporter": "python",
   "pygments_lexer": "ipython3",
   "version": "3.10.14"
  }
 },
 "nbformat": 4,
 "nbformat_minor": 5
}
